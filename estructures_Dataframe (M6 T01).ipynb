{
 "cells": [
  {
   "cell_type": "markdown",
   "id": "72534e14",
   "metadata": {},
   "source": [
    "## <span style=color:red><b>Tasca M6 T01</b></span> \n",
    "\n",
    "- [X] <span style=color:red><b>__Exercici 1:__</b></span> \n",
    "Crea almenys dos models de regressió diferents per intentar predir el millor possible el preu de les vivendes (MEDV) de l'arxiu adjunt.\n"
   ]
  },
  {
   "cell_type": "code",
   "execution_count": 239,
   "id": "910cc771",
   "metadata": {},
   "outputs": [],
   "source": [
    "import pandas as pd\n",
    "import numpy as np\n",
    "import matplotlib.pyplot as plt\n",
    "\n",
    "df=pd.read_csv('housing data.csv', sep=',')\n",
    "db=df.copy()\n",
    "db.columns=['CRIM','ZN','INDUS','CHAS','NOX','RM','AGE','DIS','RAD','TAX','PTRATIO','B','LSTAT','MEDV']\n"
   ]
  },
  {
   "cell_type": "code",
   "execution_count": 240,
   "id": "a73d31b7",
   "metadata": {},
   "outputs": [
    {
     "data": {
      "text/html": [
       "<div>\n",
       "<style scoped>\n",
       "    .dataframe tbody tr th:only-of-type {\n",
       "        vertical-align: middle;\n",
       "    }\n",
       "\n",
       "    .dataframe tbody tr th {\n",
       "        vertical-align: top;\n",
       "    }\n",
       "\n",
       "    .dataframe thead th {\n",
       "        text-align: right;\n",
       "    }\n",
       "</style>\n",
       "<table border=\"1\" class=\"dataframe\">\n",
       "  <thead>\n",
       "    <tr style=\"text-align: right;\">\n",
       "      <th></th>\n",
       "      <th>CRIM</th>\n",
       "      <th>ZN</th>\n",
       "      <th>INDUS</th>\n",
       "      <th>CHAS</th>\n",
       "      <th>NOX</th>\n",
       "      <th>RM</th>\n",
       "      <th>AGE</th>\n",
       "      <th>DIS</th>\n",
       "      <th>RAD</th>\n",
       "      <th>TAX</th>\n",
       "      <th>PTRATIO</th>\n",
       "      <th>B</th>\n",
       "      <th>LSTAT</th>\n",
       "      <th>MEDV</th>\n",
       "    </tr>\n",
       "  </thead>\n",
       "  <tbody>\n",
       "    <tr>\n",
       "      <th>0</th>\n",
       "      <td>0.02731</td>\n",
       "      <td>0.0</td>\n",
       "      <td>7.07</td>\n",
       "      <td>0</td>\n",
       "      <td>0.469</td>\n",
       "      <td>6.421</td>\n",
       "      <td>78.9</td>\n",
       "      <td>4.9671</td>\n",
       "      <td>2</td>\n",
       "      <td>242.0</td>\n",
       "      <td>17.8</td>\n",
       "      <td>396.90</td>\n",
       "      <td>9.14</td>\n",
       "      <td>21.6</td>\n",
       "    </tr>\n",
       "    <tr>\n",
       "      <th>1</th>\n",
       "      <td>0.02729</td>\n",
       "      <td>0.0</td>\n",
       "      <td>7.07</td>\n",
       "      <td>0</td>\n",
       "      <td>0.469</td>\n",
       "      <td>7.185</td>\n",
       "      <td>61.1</td>\n",
       "      <td>4.9671</td>\n",
       "      <td>2</td>\n",
       "      <td>242.0</td>\n",
       "      <td>17.8</td>\n",
       "      <td>392.83</td>\n",
       "      <td>4.03</td>\n",
       "      <td>34.7</td>\n",
       "    </tr>\n",
       "    <tr>\n",
       "      <th>2</th>\n",
       "      <td>0.03237</td>\n",
       "      <td>0.0</td>\n",
       "      <td>2.18</td>\n",
       "      <td>0</td>\n",
       "      <td>0.458</td>\n",
       "      <td>6.998</td>\n",
       "      <td>45.8</td>\n",
       "      <td>6.0622</td>\n",
       "      <td>3</td>\n",
       "      <td>222.0</td>\n",
       "      <td>18.7</td>\n",
       "      <td>394.63</td>\n",
       "      <td>2.94</td>\n",
       "      <td>33.4</td>\n",
       "    </tr>\n",
       "    <tr>\n",
       "      <th>3</th>\n",
       "      <td>0.06905</td>\n",
       "      <td>0.0</td>\n",
       "      <td>2.18</td>\n",
       "      <td>0</td>\n",
       "      <td>0.458</td>\n",
       "      <td>7.147</td>\n",
       "      <td>54.2</td>\n",
       "      <td>6.0622</td>\n",
       "      <td>3</td>\n",
       "      <td>222.0</td>\n",
       "      <td>18.7</td>\n",
       "      <td>396.90</td>\n",
       "      <td>5.33</td>\n",
       "      <td>36.2</td>\n",
       "    </tr>\n",
       "    <tr>\n",
       "      <th>4</th>\n",
       "      <td>0.02985</td>\n",
       "      <td>0.0</td>\n",
       "      <td>2.18</td>\n",
       "      <td>0</td>\n",
       "      <td>0.458</td>\n",
       "      <td>6.430</td>\n",
       "      <td>58.7</td>\n",
       "      <td>6.0622</td>\n",
       "      <td>3</td>\n",
       "      <td>222.0</td>\n",
       "      <td>18.7</td>\n",
       "      <td>394.12</td>\n",
       "      <td>5.21</td>\n",
       "      <td>28.7</td>\n",
       "    </tr>\n",
       "  </tbody>\n",
       "</table>\n",
       "</div>"
      ],
      "text/plain": [
       "      CRIM   ZN  INDUS  CHAS    NOX     RM   AGE     DIS  RAD    TAX  PTRATIO  \\\n",
       "0  0.02731  0.0   7.07     0  0.469  6.421  78.9  4.9671    2  242.0     17.8   \n",
       "1  0.02729  0.0   7.07     0  0.469  7.185  61.1  4.9671    2  242.0     17.8   \n",
       "2  0.03237  0.0   2.18     0  0.458  6.998  45.8  6.0622    3  222.0     18.7   \n",
       "3  0.06905  0.0   2.18     0  0.458  7.147  54.2  6.0622    3  222.0     18.7   \n",
       "4  0.02985  0.0   2.18     0  0.458  6.430  58.7  6.0622    3  222.0     18.7   \n",
       "\n",
       "        B  LSTAT  MEDV  \n",
       "0  396.90   9.14  21.6  \n",
       "1  392.83   4.03  34.7  \n",
       "2  394.63   2.94  33.4  \n",
       "3  396.90   5.33  36.2  \n",
       "4  394.12   5.21  28.7  "
      ]
     },
     "execution_count": 240,
     "metadata": {},
     "output_type": "execute_result"
    }
   ],
   "source": [
    "db.head()"
   ]
  },
  {
   "cell_type": "code",
   "execution_count": 241,
   "id": "c60bcc16",
   "metadata": {},
   "outputs": [
    {
     "name": "stdout",
     "output_type": "stream",
     "text": [
      "<class 'pandas.core.frame.DataFrame'>\n",
      "RangeIndex: 505 entries, 0 to 504\n",
      "Data columns (total 14 columns):\n",
      " #   Column   Non-Null Count  Dtype  \n",
      "---  ------   --------------  -----  \n",
      " 0   CRIM     505 non-null    float64\n",
      " 1   ZN       505 non-null    float64\n",
      " 2   INDUS    505 non-null    float64\n",
      " 3   CHAS     505 non-null    int64  \n",
      " 4   NOX      505 non-null    float64\n",
      " 5   RM       505 non-null    float64\n",
      " 6   AGE      505 non-null    float64\n",
      " 7   DIS      505 non-null    float64\n",
      " 8   RAD      505 non-null    int64  \n",
      " 9   TAX      505 non-null    float64\n",
      " 10  PTRATIO  505 non-null    float64\n",
      " 11  B        505 non-null    float64\n",
      " 12  LSTAT    505 non-null    float64\n",
      " 13  MEDV     505 non-null    float64\n",
      "dtypes: float64(12), int64(2)\n",
      "memory usage: 55.4 KB\n"
     ]
    }
   ],
   "source": [
    "db.info()"
   ]
  },
  {
   "cell_type": "code",
   "execution_count": 242,
   "id": "24c90261",
   "metadata": {},
   "outputs": [
    {
     "data": {
      "text/html": [
       "<div>\n",
       "<style scoped>\n",
       "    .dataframe tbody tr th:only-of-type {\n",
       "        vertical-align: middle;\n",
       "    }\n",
       "\n",
       "    .dataframe tbody tr th {\n",
       "        vertical-align: top;\n",
       "    }\n",
       "\n",
       "    .dataframe thead th {\n",
       "        text-align: right;\n",
       "    }\n",
       "</style>\n",
       "<table border=\"1\" class=\"dataframe\">\n",
       "  <thead>\n",
       "    <tr style=\"text-align: right;\">\n",
       "      <th></th>\n",
       "      <th>CRIM</th>\n",
       "      <th>ZN</th>\n",
       "      <th>INDUS</th>\n",
       "      <th>CHAS</th>\n",
       "      <th>NOX</th>\n",
       "      <th>RM</th>\n",
       "      <th>AGE</th>\n",
       "      <th>DIS</th>\n",
       "      <th>RAD</th>\n",
       "      <th>TAX</th>\n",
       "      <th>PTRATIO</th>\n",
       "      <th>B</th>\n",
       "      <th>LSTAT</th>\n",
       "      <th>MEDV</th>\n",
       "    </tr>\n",
       "  </thead>\n",
       "  <tbody>\n",
       "    <tr>\n",
       "      <th>count</th>\n",
       "      <td>505.000000</td>\n",
       "      <td>505.000000</td>\n",
       "      <td>505.000000</td>\n",
       "      <td>505.000000</td>\n",
       "      <td>505.000000</td>\n",
       "      <td>505.000000</td>\n",
       "      <td>505.000000</td>\n",
       "      <td>505.000000</td>\n",
       "      <td>505.000000</td>\n",
       "      <td>505.000000</td>\n",
       "      <td>505.000000</td>\n",
       "      <td>505.000000</td>\n",
       "      <td>505.000000</td>\n",
       "      <td>505.000000</td>\n",
       "    </tr>\n",
       "    <tr>\n",
       "      <th>mean</th>\n",
       "      <td>3.620667</td>\n",
       "      <td>11.350495</td>\n",
       "      <td>11.154257</td>\n",
       "      <td>0.069307</td>\n",
       "      <td>0.554728</td>\n",
       "      <td>6.284059</td>\n",
       "      <td>68.581584</td>\n",
       "      <td>3.794459</td>\n",
       "      <td>9.566337</td>\n",
       "      <td>408.459406</td>\n",
       "      <td>18.461782</td>\n",
       "      <td>356.594376</td>\n",
       "      <td>12.668257</td>\n",
       "      <td>22.529901</td>\n",
       "    </tr>\n",
       "    <tr>\n",
       "      <th>std</th>\n",
       "      <td>8.608572</td>\n",
       "      <td>23.343704</td>\n",
       "      <td>6.855868</td>\n",
       "      <td>0.254227</td>\n",
       "      <td>0.115990</td>\n",
       "      <td>0.703195</td>\n",
       "      <td>28.176371</td>\n",
       "      <td>2.107757</td>\n",
       "      <td>8.707553</td>\n",
       "      <td>168.629992</td>\n",
       "      <td>2.162520</td>\n",
       "      <td>91.367787</td>\n",
       "      <td>7.139950</td>\n",
       "      <td>9.205991</td>\n",
       "    </tr>\n",
       "    <tr>\n",
       "      <th>min</th>\n",
       "      <td>0.009060</td>\n",
       "      <td>0.000000</td>\n",
       "      <td>0.460000</td>\n",
       "      <td>0.000000</td>\n",
       "      <td>0.385000</td>\n",
       "      <td>3.561000</td>\n",
       "      <td>2.900000</td>\n",
       "      <td>1.129600</td>\n",
       "      <td>1.000000</td>\n",
       "      <td>187.000000</td>\n",
       "      <td>12.600000</td>\n",
       "      <td>0.320000</td>\n",
       "      <td>1.730000</td>\n",
       "      <td>5.000000</td>\n",
       "    </tr>\n",
       "    <tr>\n",
       "      <th>25%</th>\n",
       "      <td>0.082210</td>\n",
       "      <td>0.000000</td>\n",
       "      <td>5.190000</td>\n",
       "      <td>0.000000</td>\n",
       "      <td>0.449000</td>\n",
       "      <td>5.885000</td>\n",
       "      <td>45.000000</td>\n",
       "      <td>2.100000</td>\n",
       "      <td>4.000000</td>\n",
       "      <td>279.000000</td>\n",
       "      <td>17.400000</td>\n",
       "      <td>375.330000</td>\n",
       "      <td>7.010000</td>\n",
       "      <td>17.000000</td>\n",
       "    </tr>\n",
       "    <tr>\n",
       "      <th>50%</th>\n",
       "      <td>0.259150</td>\n",
       "      <td>0.000000</td>\n",
       "      <td>9.690000</td>\n",
       "      <td>0.000000</td>\n",
       "      <td>0.538000</td>\n",
       "      <td>6.208000</td>\n",
       "      <td>77.700000</td>\n",
       "      <td>3.199200</td>\n",
       "      <td>5.000000</td>\n",
       "      <td>330.000000</td>\n",
       "      <td>19.100000</td>\n",
       "      <td>391.430000</td>\n",
       "      <td>11.380000</td>\n",
       "      <td>21.200000</td>\n",
       "    </tr>\n",
       "    <tr>\n",
       "      <th>75%</th>\n",
       "      <td>3.678220</td>\n",
       "      <td>12.500000</td>\n",
       "      <td>18.100000</td>\n",
       "      <td>0.000000</td>\n",
       "      <td>0.624000</td>\n",
       "      <td>6.625000</td>\n",
       "      <td>94.100000</td>\n",
       "      <td>5.211900</td>\n",
       "      <td>24.000000</td>\n",
       "      <td>666.000000</td>\n",
       "      <td>20.200000</td>\n",
       "      <td>396.210000</td>\n",
       "      <td>16.960000</td>\n",
       "      <td>25.000000</td>\n",
       "    </tr>\n",
       "    <tr>\n",
       "      <th>max</th>\n",
       "      <td>88.976200</td>\n",
       "      <td>100.000000</td>\n",
       "      <td>27.740000</td>\n",
       "      <td>1.000000</td>\n",
       "      <td>0.871000</td>\n",
       "      <td>8.780000</td>\n",
       "      <td>100.000000</td>\n",
       "      <td>12.126500</td>\n",
       "      <td>24.000000</td>\n",
       "      <td>711.000000</td>\n",
       "      <td>22.000000</td>\n",
       "      <td>396.900000</td>\n",
       "      <td>37.970000</td>\n",
       "      <td>50.000000</td>\n",
       "    </tr>\n",
       "  </tbody>\n",
       "</table>\n",
       "</div>"
      ],
      "text/plain": [
       "             CRIM          ZN       INDUS        CHAS         NOX          RM  \\\n",
       "count  505.000000  505.000000  505.000000  505.000000  505.000000  505.000000   \n",
       "mean     3.620667   11.350495   11.154257    0.069307    0.554728    6.284059   \n",
       "std      8.608572   23.343704    6.855868    0.254227    0.115990    0.703195   \n",
       "min      0.009060    0.000000    0.460000    0.000000    0.385000    3.561000   \n",
       "25%      0.082210    0.000000    5.190000    0.000000    0.449000    5.885000   \n",
       "50%      0.259150    0.000000    9.690000    0.000000    0.538000    6.208000   \n",
       "75%      3.678220   12.500000   18.100000    0.000000    0.624000    6.625000   \n",
       "max     88.976200  100.000000   27.740000    1.000000    0.871000    8.780000   \n",
       "\n",
       "              AGE         DIS         RAD         TAX     PTRATIO           B  \\\n",
       "count  505.000000  505.000000  505.000000  505.000000  505.000000  505.000000   \n",
       "mean    68.581584    3.794459    9.566337  408.459406   18.461782  356.594376   \n",
       "std     28.176371    2.107757    8.707553  168.629992    2.162520   91.367787   \n",
       "min      2.900000    1.129600    1.000000  187.000000   12.600000    0.320000   \n",
       "25%     45.000000    2.100000    4.000000  279.000000   17.400000  375.330000   \n",
       "50%     77.700000    3.199200    5.000000  330.000000   19.100000  391.430000   \n",
       "75%     94.100000    5.211900   24.000000  666.000000   20.200000  396.210000   \n",
       "max    100.000000   12.126500   24.000000  711.000000   22.000000  396.900000   \n",
       "\n",
       "            LSTAT        MEDV  \n",
       "count  505.000000  505.000000  \n",
       "mean    12.668257   22.529901  \n",
       "std      7.139950    9.205991  \n",
       "min      1.730000    5.000000  \n",
       "25%      7.010000   17.000000  \n",
       "50%     11.380000   21.200000  \n",
       "75%     16.960000   25.000000  \n",
       "max     37.970000   50.000000  "
      ]
     },
     "execution_count": 242,
     "metadata": {},
     "output_type": "execute_result"
    }
   ],
   "source": [
    "db.describe()"
   ]
  },
  {
   "cell_type": "code",
   "execution_count": 243,
   "id": "008f552e",
   "metadata": {},
   "outputs": [
    {
     "data": {
      "text/plain": [
       "count    505.000000\n",
       "mean      22.529901\n",
       "std        9.205991\n",
       "min        5.000000\n",
       "25%       17.000000\n",
       "50%       21.200000\n",
       "75%       25.000000\n",
       "max       50.000000\n",
       "Name: MEDV, dtype: float64"
      ]
     },
     "execution_count": 243,
     "metadata": {},
     "output_type": "execute_result"
    }
   ],
   "source": [
    "db['MEDV'].describe()"
   ]
  },
  {
   "cell_type": "markdown",
   "id": "5f71f2fd",
   "metadata": {},
   "source": [
    "A continuación dividimos los datos en Train y Test"
   ]
  },
  {
   "cell_type": "code",
   "execution_count": 244,
   "id": "4187b3b0",
   "metadata": {},
   "outputs": [],
   "source": [
    "from sklearn.model_selection import train_test_split\n",
    "\n",
    "db2=db.copy().drop(columns='MEDV')\n",
    "X_train, X_test, y_train, y_test = train_test_split(db2,db['MEDV'],random_state = 123)"
   ]
  },
  {
   "cell_type": "markdown",
   "id": "5c4be345",
   "metadata": {},
   "source": [
    "### __Regresión lineal múltiple:__"
   ]
  },
  {
   "cell_type": "code",
   "execution_count": 245,
   "id": "8d339968",
   "metadata": {},
   "outputs": [
    {
     "name": "stdout",
     "output_type": "stream",
     "text": [
      "El coeficiente de determinación R2 es: 0.7033672207498376\n",
      "Mean Square Error: MSE = 26.488260356002563\n"
     ]
    }
   ],
   "source": [
    "import matplotlib.pyplot as plt\n",
    "from scipy import stats\n",
    "from sklearn import linear_model\n",
    "from sklearn.metrics import mean_squared_error\n",
    "\n",
    "model_lineal = linear_model.LinearRegression().fit(X_train, y_train)\n",
    "r_sq = model_lineal.score(X_test, y_test)\n",
    "print(f\"El coeficiente de determinación R2 es: {r_sq}\")\n",
    "\n",
    "y_pred = model_lineal.predict(X_test)\n",
    "\n",
    "print(f\"Mean Square Error: MSE = {mean_squared_error(y_test,y_pred)}\")\n"
   ]
  },
  {
   "cell_type": "markdown",
   "id": "a018e075",
   "metadata": {},
   "source": [
    "Como vamos a necesitar esos valores para el ejercicio 2, los guardamos."
   ]
  },
  {
   "cell_type": "code",
   "execution_count": 246,
   "id": "a1217d43",
   "metadata": {},
   "outputs": [],
   "source": [
    "datos_R2_MSE=[]\n",
    "datos_R2_MSE.append(['Regresión Lineal', r_sq, mean_squared_error(y_test,y_pred)])"
   ]
  },
  {
   "cell_type": "markdown",
   "id": "64e95d27",
   "metadata": {},
   "source": [
    "### Regresión polinomial:"
   ]
  },
  {
   "cell_type": "code",
   "execution_count": 247,
   "id": "a30f165d",
   "metadata": {},
   "outputs": [
    {
     "name": "stdout",
     "output_type": "stream",
     "text": [
      "El coeficiente de determinación R2 es: 0.7499205906195094\n",
      "Mean Square Error: MSE = 22.33120871567385\n"
     ]
    }
   ],
   "source": [
    "from sklearn.preprocessing import PolynomialFeatures\n",
    "\n",
    "x_ = PolynomialFeatures(degree=2, include_bias=False).fit_transform(X_train)\n",
    "x_test = PolynomialFeatures(degree=2, include_bias=False).fit_transform(X_test)\n",
    "\n",
    "modelo_poly = linear_model.LinearRegression().fit(x_, y_train)\n",
    "\n",
    "r_sq = modelo_poly.score(x_test, y_test)\n",
    "print(f\"El coeficiente de determinación R2 es: {r_sq}\")\n",
    "\n",
    "y_pred_poly = modelo_poly.predict(x_test)\n",
    "#print(f\"El valor estimado bajo este modelo es:\\n{y_pred2[0]}\")\n",
    "print(f\"Mean Square Error: MSE = {mean_squared_error(y_test,y_pred_poly)}\")\n"
   ]
  },
  {
   "cell_type": "code",
   "execution_count": 248,
   "id": "d37a6d50",
   "metadata": {},
   "outputs": [],
   "source": [
    "datos_R2_MSE.append(['Regresión Polinomial', r_sq, mean_squared_error(y_test,y_pred_poly)])"
   ]
  },
  {
   "cell_type": "markdown",
   "id": "935c86f5",
   "metadata": {},
   "source": [
    " ### __Árbol de regresión:__"
   ]
  },
  {
   "cell_type": "code",
   "execution_count": 249,
   "id": "cc4b1c18",
   "metadata": {},
   "outputs": [
    {
     "data": {
      "text/plain": [
       "DecisionTreeRegressor(max_depth=3, random_state=123)"
      ]
     },
     "execution_count": 249,
     "metadata": {},
     "output_type": "execute_result"
    }
   ],
   "source": [
    "modelo= DecisionTreeRegressor(max_depth = 3, random_state = 123)\n",
    "\n",
    "modelo.fit(X_train, y_train)"
   ]
  },
  {
   "cell_type": "code",
   "execution_count": 250,
   "id": "47d2a96a",
   "metadata": {},
   "outputs": [
    {
     "name": "stdout",
     "output_type": "stream",
     "text": [
      "Profundidad del árbol: 3\n",
      "Número de nodos terminales: 8\n"
     ]
    },
    {
     "data": {
      "image/png": "[encoded data removed]",
      "text/plain": [
       "<Figure size 864x360 with 1 Axes>"
      ]
     },
     "metadata": {
      "needs_background": "light"
     },
     "output_type": "display_data"
    }
   ],
   "source": [
    "from sklearn import tree\n",
    "\n",
    "fig, ax = plt.subplots(figsize=(12, 5))\n",
    "\n",
    "print(f\"Profundidad del árbol: {modelo.get_depth()}\")\n",
    "print(f\"Número de nodos terminales: {modelo.get_n_leaves()}\")\n",
    "\n",
    "plot = tree.plot_tree(\n",
    "            decision_tree = modelo,\n",
    "            feature_names = db2.columns,\n",
    "            class_names   = 'MEDV',\n",
    "            filled        = True,\n",
    "            impurity      = False,\n",
    "            fontsize      = 10,\n",
    "            precision     = 2,\n",
    "            ax            = ax\n",
    "       )"
   ]
  },
  {
   "cell_type": "code",
   "execution_count": 251,
   "id": "f01faf79",
   "metadata": {},
   "outputs": [
    {
     "name": "stdout",
     "output_type": "stream",
     "text": [
      "|--- RM <= 6.95\n",
      "|   |--- LSTAT <= 14.40\n",
      "|   |   |--- DIS <= 1.38\n",
      "|   |   |   |--- value: [50.00]\n",
      "|   |   |--- DIS >  1.38\n",
      "|   |   |   |--- value: [22.96]\n",
      "|   |--- LSTAT >  14.40\n",
      "|   |   |--- NOX <= 0.61\n",
      "|   |   |   |--- value: [18.30]\n",
      "|   |   |--- NOX >  0.61\n",
      "|   |   |   |--- value: [12.61]\n",
      "|--- RM >  6.95\n",
      "|   |--- RM <= 7.44\n",
      "|   |   |--- DIS <= 1.55\n",
      "|   |   |   |--- value: [50.00]\n",
      "|   |   |--- DIS >  1.55\n",
      "|   |   |   |--- value: [31.98]\n",
      "|   |--- RM >  7.44\n",
      "|   |   |--- RAD <= 16.00\n",
      "|   |   |   |--- value: [46.56]\n",
      "|   |   |--- RAD >  16.00\n",
      "|   |   |   |--- value: [21.90]\n",
      "\n"
     ]
    }
   ],
   "source": [
    "from sklearn.tree import export_text\n",
    "texto_modelo = export_text(\n",
    "                    decision_tree = modelo,\n",
    "                    feature_names = list(db2.columns)\n",
    "               )\n",
    "print(texto_modelo)"
   ]
  },
  {
   "cell_type": "code",
   "execution_count": 252,
   "id": "ace8cd76",
   "metadata": {},
   "outputs": [
    {
     "name": "stdout",
     "output_type": "stream",
     "text": [
      "El coeficiente de determinación R2 es: 0.5063787517089269\n",
      "Mean Square Error: MSE = 44.07863545977873\n"
     ]
    }
   ],
   "source": [
    "r_sq_arbol = modelo.score(X_test, y_test)\n",
    "print(f\"El coeficiente de determinación R2 es: {r_sq_arbol}\")\n",
    "\n",
    "y_predt_arbol = modelo.predict(X_test)\n",
    "MSE_arbol=mean_squared_error(y_test,y_predt_arbol)\n",
    "print(f\"Mean Square Error: MSE = {MSE_arbol}\")"
   ]
  },
  {
   "cell_type": "code",
   "execution_count": 253,
   "id": "fd317688",
   "metadata": {},
   "outputs": [],
   "source": [
    "datos_R2_MSE.append(['Árbol de Regresión', r_sq_arbol, MSE_arbol])\n"
   ]
  },
  {
   "cell_type": "markdown",
   "id": "cc6a8e61",
   "metadata": {},
   "source": [
    "### Random forest"
   ]
  },
  {
   "cell_type": "code",
   "execution_count": 254,
   "id": "aa2314c0",
   "metadata": {},
   "outputs": [
    {
     "data": {
      "text/plain": [
       "RandomForestRegressor(n_estimators=10, n_jobs=-1, random_state=123)"
      ]
     },
     "execution_count": 254,
     "metadata": {},
     "output_type": "execute_result"
    }
   ],
   "source": [
    "from sklearn.ensemble import RandomForestRegressor\n",
    "from sklearn.datasets import make_regression\n",
    "\n",
    "modelo_RandomForest = RandomForestRegressor(n_estimators = 10, criterion = 'mse', max_depth = None, max_features = 'auto',oob_score = False, n_jobs = -1,random_state = 123)\n",
    "\n",
    "modelo_RandomForest.fit(X_train, y_train)\n"
   ]
  },
  {
   "cell_type": "code",
   "execution_count": 255,
   "id": "bff3128e",
   "metadata": {},
   "outputs": [
    {
     "name": "stdout",
     "output_type": "stream",
     "text": [
      "El coeficiente de determinación R2 es: 0.5063787517089269\n",
      "Mean Square Error: MSE = 12.624633858267714\n"
     ]
    }
   ],
   "source": [
    "y_pred_RandomForest = modelo_RandomForest.predict(X_test)\n",
    "\n",
    "r_sq_Forest = modelo.score(X_test, y_test)\n",
    "print(f\"El coeficiente de determinación R2 es: {r_sq_Forest}\")\n",
    "MSE_Forest=mean_squared_error(y_test,y_pred_RandomForest)\n",
    "print(f\"Mean Square Error: MSE = {MSE_Forest}\")\n",
    "\n"
   ]
  },
  {
   "cell_type": "code",
   "execution_count": 257,
   "id": "80d53b35",
   "metadata": {},
   "outputs": [],
   "source": [
    "datos_R2_MSE.append(['Random Forest', r_sq_Forest, MSE_Forest])\n"
   ]
  },
  {
   "cell_type": "markdown",
   "id": "a8e1be45",
   "metadata": {},
   "source": [
    "____"
   ]
  },
  {
   "cell_type": "markdown",
   "id": "e6f6331c",
   "metadata": {},
   "source": [
    "\n",
    "- [X] <span style=color:red><b>__Exercici 2:__</b></span>\n",
    "Compara’ls en base al MSE i al R2.\n",
    "\n"
   ]
  },
  {
   "cell_type": "markdown",
   "id": "476b9a7a",
   "metadata": {},
   "source": [
    "De acuerdo con los valores obtenidos de MSE y de R2 en los modelos anteriores, se tiene lo siguiente:"
   ]
  },
  {
   "cell_type": "code",
   "execution_count": 258,
   "id": "52d34047",
   "metadata": {},
   "outputs": [
    {
     "data": {
      "text/html": [
       "<div>\n",
       "<style scoped>\n",
       "    .dataframe tbody tr th:only-of-type {\n",
       "        vertical-align: middle;\n",
       "    }\n",
       "\n",
       "    .dataframe tbody tr th {\n",
       "        vertical-align: top;\n",
       "    }\n",
       "\n",
       "    .dataframe thead th {\n",
       "        text-align: right;\n",
       "    }\n",
       "</style>\n",
       "<table border=\"1\" class=\"dataframe\">\n",
       "  <thead>\n",
       "    <tr style=\"text-align: right;\">\n",
       "      <th></th>\n",
       "      <th>Modelo de predicción</th>\n",
       "      <th>R2</th>\n",
       "      <th>MSE</th>\n",
       "    </tr>\n",
       "  </thead>\n",
       "  <tbody>\n",
       "    <tr>\n",
       "      <th>0</th>\n",
       "      <td>Regresión Lineal</td>\n",
       "      <td>0.703367</td>\n",
       "      <td>26.488260</td>\n",
       "    </tr>\n",
       "    <tr>\n",
       "      <th>1</th>\n",
       "      <td>Regresión Polinomial</td>\n",
       "      <td>0.749921</td>\n",
       "      <td>22.331209</td>\n",
       "    </tr>\n",
       "    <tr>\n",
       "      <th>2</th>\n",
       "      <td>Árbol de Regresión</td>\n",
       "      <td>0.506379</td>\n",
       "      <td>44.078635</td>\n",
       "    </tr>\n",
       "    <tr>\n",
       "      <th>3</th>\n",
       "      <td>Random Forest</td>\n",
       "      <td>0.506379</td>\n",
       "      <td>12.624634</td>\n",
       "    </tr>\n",
       "  </tbody>\n",
       "</table>\n",
       "</div>"
      ],
      "text/plain": [
       "   Modelo de predicción        R2        MSE\n",
       "0      Regresión Lineal  0.703367  26.488260\n",
       "1  Regresión Polinomial  0.749921  22.331209\n",
       "2    Árbol de Regresión  0.506379  44.078635\n",
       "3         Random Forest  0.506379  12.624634"
      ]
     },
     "execution_count": 258,
     "metadata": {},
     "output_type": "execute_result"
    }
   ],
   "source": [
    "Tabla_Comparacion=pd.DataFrame(datos_R2_MSE)\n",
    "Tabla_Comparacion.columns=['Modelo de predicción', 'R2', 'MSE']\n",
    "Tabla_Comparacion"
   ]
  },
  {
   "cell_type": "markdown",
   "id": "f032d66e",
   "metadata": {},
   "source": [
    "- [ ] <span style=color:red><b>__Exercici 3:__</b></span>\n",
    "Entrena’ls utilitzant els diferents paràmetres que admeten per intentar millorar-ne la predicció.\n"
   ]
  },
  {
   "cell_type": "code",
   "execution_count": null,
   "id": "f08fce71",
   "metadata": {},
   "outputs": [],
   "source": []
  },
  {
   "cell_type": "markdown",
   "id": "34420a57",
   "metadata": {},
   "source": [
    "\n",
    "- [X] <span style=color:red><b>__Exercici 4:__</b></span>\n",
    "Compara el seu rendiment emprant l’aproximació traint/test o emprant totes les dades (validació interna).\n"
   ]
  },
  {
   "cell_type": "code",
   "execution_count": 259,
   "id": "d30d4721",
   "metadata": {},
   "outputs": [],
   "source": [
    "# Árbol de Regresión\n",
    "\n",
    "modelo_arbol= DecisionTreeRegressor(max_depth = 3, random_state = 123)\n",
    "\n",
    "modelo_arbol.fit(X, y)\n",
    "\n",
    "r_sq_arbolT = modelo_arbol.score(X_test, y_test)\n",
    "\n",
    "y_predt_arbol = modelo_arbol.predict(X_test)\n",
    "MSE_arbolT =mean_squared_error(y_test,y_predt_arbol)"
   ]
  },
  {
   "cell_type": "code",
   "execution_count": 260,
   "id": "86b6ea6a",
   "metadata": {},
   "outputs": [
    {
     "data": {
      "text/html": [
       "<div>\n",
       "<style scoped>\n",
       "    .dataframe tbody tr th:only-of-type {\n",
       "        vertical-align: middle;\n",
       "    }\n",
       "\n",
       "    .dataframe tbody tr th {\n",
       "        vertical-align: top;\n",
       "    }\n",
       "\n",
       "    .dataframe thead th {\n",
       "        text-align: right;\n",
       "    }\n",
       "</style>\n",
       "<table border=\"1\" class=\"dataframe\">\n",
       "  <thead>\n",
       "    <tr style=\"text-align: right;\">\n",
       "      <th></th>\n",
       "      <th>Modelo de predicción</th>\n",
       "      <th>R2</th>\n",
       "      <th>MSE</th>\n",
       "    </tr>\n",
       "  </thead>\n",
       "  <tbody>\n",
       "    <tr>\n",
       "      <th>0</th>\n",
       "      <td>Con Train/Test</td>\n",
       "      <td>0.506379</td>\n",
       "      <td>44.078635</td>\n",
       "    </tr>\n",
       "    <tr>\n",
       "      <th>1</th>\n",
       "      <td>Con todos los datos</td>\n",
       "      <td>0.827145</td>\n",
       "      <td>15.435302</td>\n",
       "    </tr>\n",
       "  </tbody>\n",
       "</table>\n",
       "</div>"
      ],
      "text/plain": [
       "  Modelo de predicción        R2        MSE\n",
       "0       Con Train/Test  0.506379  44.078635\n",
       "1  Con todos los datos  0.827145  15.435302"
      ]
     },
     "execution_count": 260,
     "metadata": {},
     "output_type": "execute_result"
    }
   ],
   "source": [
    "arbol=[]\n",
    "arbol.append(['Con Train/Test', r_sq_arbol, MSE_arbol])\n",
    "arbol.append(['Con todos los datos', r_sq_arbolT, MSE_arbolT])\n",
    "\n",
    "Tabla_Arbol=pd.DataFrame(arbol)\n",
    "Tabla_Arbol.columns=['Modelo de predicción', 'R2', 'MSE']\n",
    "\n",
    "Tabla_Arbol"
   ]
  },
  {
   "cell_type": "code",
   "execution_count": 261,
   "id": "e815e164",
   "metadata": {},
   "outputs": [
    {
     "name": "stdout",
     "output_type": "stream",
     "text": [
      "El coeficiente de determinación R2 es: 0.5063787517089269\n",
      "Mean Square Error: MSE = 12.624633858267714\n"
     ]
    },
    {
     "name": "stderr",
     "output_type": "stream",
     "text": [
      "/var/folders/3k/7pds9wx5375860hy6f9cx2vc0000gn/T/ipykernel_57051/29503129.py:4: DataConversionWarning: A column-vector y was passed when a 1d array was expected. Please change the shape of y to (n_samples,), for example using ravel().\n",
      "  modelo_RandomForest.fit(X,y)\n"
     ]
    }
   ],
   "source": [
    "#Random Forest\n",
    "\n",
    "modelo_RandomForest = RandomForestRegressor(n_estimators = 10, criterion = 'mse',max_depth = None,max_features = 'auto', oob_score = False, n_jobs = -1,random_state = 123)\n",
    "modelo_RandomForest.fit(X,y)\n",
    "\n",
    "y_pred_RandomForest = modelo_RandomForest.predict(X_test)\n",
    "\n",
    "r_sq_ForestT = modelo_RandomForest.score(X_test, y_test)\n",
    "print(f\"El coeficiente de determinación R2 es: {r_sq_Forest}\")\n",
    "\n",
    "MSE_ForestT = mean_squared_error(y_test,y_pred_RandomForest)\n",
    "print(f\"Mean Square Error: MSE = {MSE_Forest}\")"
   ]
  },
  {
   "cell_type": "code",
   "execution_count": 262,
   "id": "6b77907f",
   "metadata": {},
   "outputs": [
    {
     "data": {
      "text/html": [
       "<div>\n",
       "<style scoped>\n",
       "    .dataframe tbody tr th:only-of-type {\n",
       "        vertical-align: middle;\n",
       "    }\n",
       "\n",
       "    .dataframe tbody tr th {\n",
       "        vertical-align: top;\n",
       "    }\n",
       "\n",
       "    .dataframe thead th {\n",
       "        text-align: right;\n",
       "    }\n",
       "</style>\n",
       "<table border=\"1\" class=\"dataframe\">\n",
       "  <thead>\n",
       "    <tr style=\"text-align: right;\">\n",
       "      <th></th>\n",
       "      <th>Modelo de predicción</th>\n",
       "      <th>R2</th>\n",
       "      <th>MSE</th>\n",
       "    </tr>\n",
       "  </thead>\n",
       "  <tbody>\n",
       "    <tr>\n",
       "      <th>0</th>\n",
       "      <td>Con Train/Test</td>\n",
       "      <td>0.506379</td>\n",
       "      <td>12.624634</td>\n",
       "    </tr>\n",
       "    <tr>\n",
       "      <th>1</th>\n",
       "      <td>Con todos los datos</td>\n",
       "      <td>0.956170</td>\n",
       "      <td>3.913850</td>\n",
       "    </tr>\n",
       "  </tbody>\n",
       "</table>\n",
       "</div>"
      ],
      "text/plain": [
       "  Modelo de predicción        R2        MSE\n",
       "0       Con Train/Test  0.506379  12.624634\n",
       "1  Con todos los datos  0.956170   3.913850"
      ]
     },
     "execution_count": 262,
     "metadata": {},
     "output_type": "execute_result"
    }
   ],
   "source": [
    "forest=[]\n",
    "forest.append(['Con Train/Test', r_sq_Forest, MSE_Forest])\n",
    "forest.append(['Con todos los datos', r_sq_ForestT, MSE_ForestT])\n",
    "\n",
    "Tabla_Forest=pd.DataFrame(forest)\n",
    "Tabla_Forest.columns=['Modelo de predicción', 'R2', 'MSE']\n",
    "\n",
    "Tabla_Forest"
   ]
  },
  {
   "cell_type": "markdown",
   "id": "27702754",
   "metadata": {},
   "source": [
    "\n",
    "- [X] <span style=color:red><b>__Exercici 5:__</b></span>\n",
    "No facis servir la variable del nombre d'habitacions (RM) a l’hora de fer prediccions\n"
   ]
  },
  {
   "cell_type": "code",
   "execution_count": 263,
   "id": "287227e7",
   "metadata": {},
   "outputs": [],
   "source": [
    "db3=db.copy().drop(columns=['RM','MEDV'])\n",
    "X3_train, X3_test, y3_train, y3_test = train_test_split(db3,db['MEDV'],random_state = 123)"
   ]
  },
  {
   "cell_type": "code",
   "execution_count": 264,
   "id": "35843bc8",
   "metadata": {},
   "outputs": [
    {
     "data": {
      "text/html": [
       "<div>\n",
       "<style scoped>\n",
       "    .dataframe tbody tr th:only-of-type {\n",
       "        vertical-align: middle;\n",
       "    }\n",
       "\n",
       "    .dataframe tbody tr th {\n",
       "        vertical-align: top;\n",
       "    }\n",
       "\n",
       "    .dataframe thead th {\n",
       "        text-align: right;\n",
       "    }\n",
       "</style>\n",
       "<table border=\"1\" class=\"dataframe\">\n",
       "  <thead>\n",
       "    <tr style=\"text-align: right;\">\n",
       "      <th></th>\n",
       "      <th>Modelo de predicción</th>\n",
       "      <th>R2</th>\n",
       "      <th>MSE</th>\n",
       "    </tr>\n",
       "  </thead>\n",
       "  <tbody>\n",
       "    <tr>\n",
       "      <th>0</th>\n",
       "      <td>Regresión Lineal</td>\n",
       "      <td>0.670955</td>\n",
       "      <td>29.382545</td>\n",
       "    </tr>\n",
       "    <tr>\n",
       "      <th>1</th>\n",
       "      <td>Regresión polinomial</td>\n",
       "      <td>0.761388</td>\n",
       "      <td>21.307184</td>\n",
       "    </tr>\n",
       "    <tr>\n",
       "      <th>2</th>\n",
       "      <td>Regresión Lineal</td>\n",
       "      <td>0.663638</td>\n",
       "      <td>30.035971</td>\n",
       "    </tr>\n",
       "    <tr>\n",
       "      <th>3</th>\n",
       "      <td>Random Forest</td>\n",
       "      <td>0.837448</td>\n",
       "      <td>14.515347</td>\n",
       "    </tr>\n",
       "  </tbody>\n",
       "</table>\n",
       "</div>"
      ],
      "text/plain": [
       "   Modelo de predicción        R2        MSE\n",
       "0      Regresión Lineal  0.670955  29.382545\n",
       "1  Regresión polinomial  0.761388  21.307184\n",
       "2      Regresión Lineal  0.663638  30.035971\n",
       "3         Random Forest  0.837448  14.515347"
      ]
     },
     "execution_count": 264,
     "metadata": {},
     "output_type": "execute_result"
    }
   ],
   "source": [
    "# Regresión Lineal:\n",
    "model_lineal = linear_model.LinearRegression().fit(X3_train, y3_train)\n",
    "r_sq_lineal = model_lineal.score(X3_test, y3_test)\n",
    "y3_pred_lineal = model_lineal.predict(X3_test)\n",
    "MSE_lineal=mean_squared_error(y3_test,y3_pred_lineal)\n",
    "\n",
    "datos=[]\n",
    "datos.append(['Regresión Lineal', r_sq_lineal, MSE_lineal])\n",
    "\n",
    "\n",
    "# Regresión polinomial\n",
    "\n",
    "x3_ = PolynomialFeatures(degree=2, include_bias=False).fit_transform(X3_train)\n",
    "x3_test = PolynomialFeatures(degree=2, include_bias=False).fit_transform(X3_test)\n",
    "\n",
    "modelo_poly = linear_model.LinearRegression().fit(x3_, y3_train)\n",
    "\n",
    "r_sq_poly = modelo_poly.score(x3_test, y3_test)\n",
    "\n",
    "y3_pred_poly = modelo_poly.predict(x3_test)\n",
    "MSE_poly = mean_squared_error(y3_test,y3_pred_poly)\n",
    "\n",
    "datos.append(['Regresión polinomial', r_sq_poly, MSE_poly])\n",
    "\n",
    "# Árbol de regresión\n",
    "\n",
    "modelo_arbol= DecisionTreeRegressor(max_depth = 3, random_state = 123)\n",
    "modelo_arbol.fit(X3_train, y3_train)\n",
    "r_sq_arbol = modelo_arbol.score(X3_test, y3_test)\n",
    "\n",
    "\n",
    "y3_predt_arbol = modelo_arbol.predict(X3_test)\n",
    "MSE_arbol = mean_squared_error(y3_test,y3_predt_arbol)\n",
    "\n",
    "datos.append(['Regresión Lineal', r_sq_arbol, MSE_arbol])\n",
    "\n",
    "# Random Forest\n",
    "\n",
    "modelo_RandomForest = RandomForestRegressor(n_estimators = 10, criterion = 'mse',max_depth = None,max_features = 'auto', oob_score = False, n_jobs = -1,random_state = 123)\n",
    "modelo_RandomForest.fit(X3_train, y3_train)\n",
    "\n",
    "y3_pred_RandomForest = modelo_RandomForest.predict(X3_test)\n",
    "\n",
    "r_sq_Forest = modelo_RandomForest.score(X3_test, y3_test)\n",
    "MSE_Forest = mean_squared_error(y3_test,y3_pred_RandomForest)\n",
    "\n",
    "datos.append(['Random Forest', r_sq_Forest, MSE_Forest])\n",
    "\n",
    "Tabla_Comparacion2=pd.DataFrame(datos)\n",
    "Tabla_Comparacion2.columns=['Modelo de predicción', 'R2', 'MSE']\n",
    "Tabla_Comparacion2\n"
   ]
  },
  {
   "cell_type": "code",
   "execution_count": 265,
   "id": "431639b9",
   "metadata": {},
   "outputs": [
    {
     "data": {
      "text/html": [
       "<div>\n",
       "<style scoped>\n",
       "    .dataframe tbody tr th:only-of-type {\n",
       "        vertical-align: middle;\n",
       "    }\n",
       "\n",
       "    .dataframe tbody tr th {\n",
       "        vertical-align: top;\n",
       "    }\n",
       "\n",
       "    .dataframe thead th {\n",
       "        text-align: right;\n",
       "    }\n",
       "</style>\n",
       "<table border=\"1\" class=\"dataframe\">\n",
       "  <thead>\n",
       "    <tr style=\"text-align: right;\">\n",
       "      <th></th>\n",
       "      <th>Modelo de predicción</th>\n",
       "      <th>R2</th>\n",
       "      <th>MSE</th>\n",
       "    </tr>\n",
       "  </thead>\n",
       "  <tbody>\n",
       "    <tr>\n",
       "      <th>0</th>\n",
       "      <td>Regresión Lineal</td>\n",
       "      <td>0.703367</td>\n",
       "      <td>26.488260</td>\n",
       "    </tr>\n",
       "    <tr>\n",
       "      <th>1</th>\n",
       "      <td>Regresión Polinomial</td>\n",
       "      <td>0.749921</td>\n",
       "      <td>22.331209</td>\n",
       "    </tr>\n",
       "    <tr>\n",
       "      <th>2</th>\n",
       "      <td>Árbol de Regresión</td>\n",
       "      <td>0.506379</td>\n",
       "      <td>44.078635</td>\n",
       "    </tr>\n",
       "    <tr>\n",
       "      <th>3</th>\n",
       "      <td>Random Forest</td>\n",
       "      <td>0.506379</td>\n",
       "      <td>12.624634</td>\n",
       "    </tr>\n",
       "  </tbody>\n",
       "</table>\n",
       "</div>"
      ],
      "text/plain": [
       "   Modelo de predicción        R2        MSE\n",
       "0      Regresión Lineal  0.703367  26.488260\n",
       "1  Regresión Polinomial  0.749921  22.331209\n",
       "2    Árbol de Regresión  0.506379  44.078635\n",
       "3         Random Forest  0.506379  12.624634"
      ]
     },
     "execution_count": 265,
     "metadata": {},
     "output_type": "execute_result"
    }
   ],
   "source": [
    "Tabla_Comparacion.style.set_caption(\"Modelos con RM\")\n",
    "Tabla_Comparacion2.style.set_caption(\"Modelos sin RM\")\n",
    "Tabla_Comparacion"
   ]
  },
  {
   "cell_type": "code",
   "execution_count": 266,
   "id": "7aaceb82",
   "metadata": {},
   "outputs": [
    {
     "data": {
      "text/html": [
       "<div>\n",
       "<style scoped>\n",
       "    .dataframe tbody tr th:only-of-type {\n",
       "        vertical-align: middle;\n",
       "    }\n",
       "\n",
       "    .dataframe tbody tr th {\n",
       "        vertical-align: top;\n",
       "    }\n",
       "\n",
       "    .dataframe thead th {\n",
       "        text-align: right;\n",
       "    }\n",
       "</style>\n",
       "<table border=\"1\" class=\"dataframe\">\n",
       "  <thead>\n",
       "    <tr style=\"text-align: right;\">\n",
       "      <th></th>\n",
       "      <th>Modelo de predicción</th>\n",
       "      <th>R2</th>\n",
       "      <th>MSE</th>\n",
       "    </tr>\n",
       "  </thead>\n",
       "  <tbody>\n",
       "    <tr>\n",
       "      <th>0</th>\n",
       "      <td>Regresión Lineal</td>\n",
       "      <td>0.670955</td>\n",
       "      <td>29.382545</td>\n",
       "    </tr>\n",
       "    <tr>\n",
       "      <th>1</th>\n",
       "      <td>Regresión polinomial</td>\n",
       "      <td>0.761388</td>\n",
       "      <td>21.307184</td>\n",
       "    </tr>\n",
       "    <tr>\n",
       "      <th>2</th>\n",
       "      <td>Regresión Lineal</td>\n",
       "      <td>0.663638</td>\n",
       "      <td>30.035971</td>\n",
       "    </tr>\n",
       "    <tr>\n",
       "      <th>3</th>\n",
       "      <td>Random Forest</td>\n",
       "      <td>0.837448</td>\n",
       "      <td>14.515347</td>\n",
       "    </tr>\n",
       "  </tbody>\n",
       "</table>\n",
       "</div>"
      ],
      "text/plain": [
       "   Modelo de predicción        R2        MSE\n",
       "0      Regresión Lineal  0.670955  29.382545\n",
       "1  Regresión polinomial  0.761388  21.307184\n",
       "2      Regresión Lineal  0.663638  30.035971\n",
       "3         Random Forest  0.837448  14.515347"
      ]
     },
     "execution_count": 266,
     "metadata": {},
     "output_type": "execute_result"
    }
   ],
   "source": [
    "Tabla_Comparacion2"
   ]
  },
  {
   "cell_type": "code",
   "execution_count": null,
   "id": "0c774ae5",
   "metadata": {},
   "outputs": [],
   "source": []
  },
  {
   "cell_type": "code",
   "execution_count": null,
   "id": "6e0d7fe7",
   "metadata": {},
   "outputs": [],
   "source": []
  }
 ],
 "metadata": {
  "kernelspec": {
   "display_name": "Python 3 (ipykernel)",
   "language": "python",
   "name": "python3"
  },
  "language_info": {
   "codemirror_mode": {
    "name": "ipython",
    "version": 3
   },
   "file_extension": ".py",
   "mimetype": "text/x-python",
   "name": "python",
   "nbconvert_exporter": "python",
   "pygments_lexer": "ipython3",
   "version": "3.9.7"
  }
 },
 "nbformat": 4,
 "nbformat_minor": 5
}
